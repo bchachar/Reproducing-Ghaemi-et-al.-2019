{
  "cells": [
    {
      "cell_type": "markdown",
      "source": [
        "> I have performed this exercise on google colab so the following two blocks load the dataset, delete them and uncomment the other block if you want to test it on local machine"
      ],
      "metadata": {
        "id": "trkjWq85BC1X"
      },
      "id": "trkjWq85BC1X"
    },
    {
      "cell_type": "code",
      "source": [
        "from google.colab import drive\n",
        "drive.mount(\"/content/gdrive\")"
      ],
      "metadata": {
        "colab": {
          "base_uri": "https://localhost:8080/"
        },
        "outputId": "7202b624-b31b-40ac-9898-d08e70feb0b5",
        "id": "p3WJuSxvcCCR"
      },
      "execution_count": null,
      "outputs": [
        {
          "output_type": "stream",
          "name": "stdout",
          "text": [
            "Drive already mounted at /content/gdrive; to attempt to forcibly remount, call drive.mount(\"/content/gdrive\", force_remount=True).\n"
          ]
        }
      ],
      "id": "p3WJuSxvcCCR"
    },
    {
      "cell_type": "code",
      "execution_count": null,
      "metadata": {
        "outputId": "329bbab7-5c05-485a-c712-b7c1c08de382",
        "colab": {
          "base_uri": "https://localhost:8080/",
          "height": 383
        },
        "id": "BRhTcfwKKMkq"
      },
      "outputs": [
        {
          "output_type": "execute_result",
          "data": {
            "text/plain": [
              "  Training/Validation Gates ID       MRN Study Subject ID Number     Sex  \\\n",
              "                                                                           \n",
              "0                   T  PTLG002  16661779                   10565    Male   \n",
              "1                   T  PTLG002  16661779                   10565    Male   \n",
              "2                   T  PTLG002  16661779                   10565    Male   \n",
              "3                   T  PTLG002  16661779                   10565    Male   \n",
              "4                   T  PTLG004  23587868                   10603  Female   \n",
              "\n",
              "  sex_bin timepoint gestational_age cellfree_rna                ...  \\\n",
              "                                       0_C2orf76      1_ACTL10  ...   \n",
              "0       1         1              11     0.312437 -1.892930e-16  ...   \n",
              "1       1         2              18     0.312437 -1.892930e-16  ...   \n",
              "2       1         3              32     0.312437 -1.892930e-16  ...   \n",
              "3       1         4              45     0.312437 -1.892930e-16  ...   \n",
              "4       0         1              11     5.204209  1.734736e+00  ...   \n",
              "\n",
              "  plasma_somalogic                                                             \\\n",
              "       1290_UBE2G2 1291_TAGLN2 1292_ATP5O 1293_POMC 1294_CRYZL1 1295_SERPINF1   \n",
              "0           4804.4      2233.0     3610.9     715.8       151.4       37885.8   \n",
              "1           4086.0      2160.5     2260.4     825.2       161.0       41821.5   \n",
              "2           4328.0      1818.4     2445.2    1241.8       194.6       45526.1   \n",
              "3           3442.4      2661.4     3879.2     703.6       153.7       36862.5   \n",
              "4           4261.9      1804.6     1470.6     526.8       163.0       38938.3   \n",
              "\n",
              "                                              \n",
              "  1296_CTSF 1297_FTCD 1298_USP25 1299_PLXNB2  \n",
              "0    1479.1    3261.8      561.3      3227.0  \n",
              "1    1465.1    1839.8      597.8      3366.0  \n",
              "2    1428.3    3057.2      625.7      8703.7  \n",
              "3    1063.6    7339.7      593.2      2918.9  \n",
              "4    1170.1    1036.8      552.8      3457.1  \n",
              "\n",
              "[5 rows x 61274 columns]"
            ],
            "text/html": [
              "\n",
              "  <div id=\"df-19ce0e9c-3683-46f1-8137-cd1aaec9d358\">\n",
              "    <div class=\"colab-df-container\">\n",
              "      <div>\n",
              "<style scoped>\n",
              "    .dataframe tbody tr th:only-of-type {\n",
              "        vertical-align: middle;\n",
              "    }\n",
              "\n",
              "    .dataframe tbody tr th {\n",
              "        vertical-align: top;\n",
              "    }\n",
              "\n",
              "    .dataframe thead tr th {\n",
              "        text-align: left;\n",
              "    }\n",
              "</style>\n",
              "<table border=\"1\" class=\"dataframe\">\n",
              "  <thead>\n",
              "    <tr>\n",
              "      <th></th>\n",
              "      <th>Training/Validation</th>\n",
              "      <th>Gates ID</th>\n",
              "      <th>MRN</th>\n",
              "      <th>Study Subject ID Number</th>\n",
              "      <th>Sex</th>\n",
              "      <th>sex_bin</th>\n",
              "      <th>timepoint</th>\n",
              "      <th>gestational_age</th>\n",
              "      <th colspan=\"2\" halign=\"left\">cellfree_rna</th>\n",
              "      <th>...</th>\n",
              "      <th colspan=\"10\" halign=\"left\">plasma_somalogic</th>\n",
              "    </tr>\n",
              "    <tr>\n",
              "      <th></th>\n",
              "      <th></th>\n",
              "      <th></th>\n",
              "      <th></th>\n",
              "      <th></th>\n",
              "      <th></th>\n",
              "      <th></th>\n",
              "      <th></th>\n",
              "      <th></th>\n",
              "      <th>0_C2orf76</th>\n",
              "      <th>1_ACTL10</th>\n",
              "      <th>...</th>\n",
              "      <th>1290_UBE2G2</th>\n",
              "      <th>1291_TAGLN2</th>\n",
              "      <th>1292_ATP5O</th>\n",
              "      <th>1293_POMC</th>\n",
              "      <th>1294_CRYZL1</th>\n",
              "      <th>1295_SERPINF1</th>\n",
              "      <th>1296_CTSF</th>\n",
              "      <th>1297_FTCD</th>\n",
              "      <th>1298_USP25</th>\n",
              "      <th>1299_PLXNB2</th>\n",
              "    </tr>\n",
              "  </thead>\n",
              "  <tbody>\n",
              "    <tr>\n",
              "      <th>0</th>\n",
              "      <td>T</td>\n",
              "      <td>PTLG002</td>\n",
              "      <td>16661779</td>\n",
              "      <td>10565</td>\n",
              "      <td>Male</td>\n",
              "      <td>1</td>\n",
              "      <td>1</td>\n",
              "      <td>11</td>\n",
              "      <td>0.312437</td>\n",
              "      <td>-1.892930e-16</td>\n",
              "      <td>...</td>\n",
              "      <td>4804.4</td>\n",
              "      <td>2233.0</td>\n",
              "      <td>3610.9</td>\n",
              "      <td>715.8</td>\n",
              "      <td>151.4</td>\n",
              "      <td>37885.8</td>\n",
              "      <td>1479.1</td>\n",
              "      <td>3261.8</td>\n",
              "      <td>561.3</td>\n",
              "      <td>3227.0</td>\n",
              "    </tr>\n",
              "    <tr>\n",
              "      <th>1</th>\n",
              "      <td>T</td>\n",
              "      <td>PTLG002</td>\n",
              "      <td>16661779</td>\n",
              "      <td>10565</td>\n",
              "      <td>Male</td>\n",
              "      <td>1</td>\n",
              "      <td>2</td>\n",
              "      <td>18</td>\n",
              "      <td>0.312437</td>\n",
              "      <td>-1.892930e-16</td>\n",
              "      <td>...</td>\n",
              "      <td>4086.0</td>\n",
              "      <td>2160.5</td>\n",
              "      <td>2260.4</td>\n",
              "      <td>825.2</td>\n",
              "      <td>161.0</td>\n",
              "      <td>41821.5</td>\n",
              "      <td>1465.1</td>\n",
              "      <td>1839.8</td>\n",
              "      <td>597.8</td>\n",
              "      <td>3366.0</td>\n",
              "    </tr>\n",
              "    <tr>\n",
              "      <th>2</th>\n",
              "      <td>T</td>\n",
              "      <td>PTLG002</td>\n",
              "      <td>16661779</td>\n",
              "      <td>10565</td>\n",
              "      <td>Male</td>\n",
              "      <td>1</td>\n",
              "      <td>3</td>\n",
              "      <td>32</td>\n",
              "      <td>0.312437</td>\n",
              "      <td>-1.892930e-16</td>\n",
              "      <td>...</td>\n",
              "      <td>4328.0</td>\n",
              "      <td>1818.4</td>\n",
              "      <td>2445.2</td>\n",
              "      <td>1241.8</td>\n",
              "      <td>194.6</td>\n",
              "      <td>45526.1</td>\n",
              "      <td>1428.3</td>\n",
              "      <td>3057.2</td>\n",
              "      <td>625.7</td>\n",
              "      <td>8703.7</td>\n",
              "    </tr>\n",
              "    <tr>\n",
              "      <th>3</th>\n",
              "      <td>T</td>\n",
              "      <td>PTLG002</td>\n",
              "      <td>16661779</td>\n",
              "      <td>10565</td>\n",
              "      <td>Male</td>\n",
              "      <td>1</td>\n",
              "      <td>4</td>\n",
              "      <td>45</td>\n",
              "      <td>0.312437</td>\n",
              "      <td>-1.892930e-16</td>\n",
              "      <td>...</td>\n",
              "      <td>3442.4</td>\n",
              "      <td>2661.4</td>\n",
              "      <td>3879.2</td>\n",
              "      <td>703.6</td>\n",
              "      <td>153.7</td>\n",
              "      <td>36862.5</td>\n",
              "      <td>1063.6</td>\n",
              "      <td>7339.7</td>\n",
              "      <td>593.2</td>\n",
              "      <td>2918.9</td>\n",
              "    </tr>\n",
              "    <tr>\n",
              "      <th>4</th>\n",
              "      <td>T</td>\n",
              "      <td>PTLG004</td>\n",
              "      <td>23587868</td>\n",
              "      <td>10603</td>\n",
              "      <td>Female</td>\n",
              "      <td>0</td>\n",
              "      <td>1</td>\n",
              "      <td>11</td>\n",
              "      <td>5.204209</td>\n",
              "      <td>1.734736e+00</td>\n",
              "      <td>...</td>\n",
              "      <td>4261.9</td>\n",
              "      <td>1804.6</td>\n",
              "      <td>1470.6</td>\n",
              "      <td>526.8</td>\n",
              "      <td>163.0</td>\n",
              "      <td>38938.3</td>\n",
              "      <td>1170.1</td>\n",
              "      <td>1036.8</td>\n",
              "      <td>552.8</td>\n",
              "      <td>3457.1</td>\n",
              "    </tr>\n",
              "  </tbody>\n",
              "</table>\n",
              "<p>5 rows × 61274 columns</p>\n",
              "</div>\n",
              "      <button class=\"colab-df-convert\" onclick=\"convertToInteractive('df-19ce0e9c-3683-46f1-8137-cd1aaec9d358')\"\n",
              "              title=\"Convert this dataframe to an interactive table.\"\n",
              "              style=\"display:none;\">\n",
              "        \n",
              "  <svg xmlns=\"http://www.w3.org/2000/svg\" height=\"24px\"viewBox=\"0 0 24 24\"\n",
              "       width=\"24px\">\n",
              "    <path d=\"M0 0h24v24H0V0z\" fill=\"none\"/>\n",
              "    <path d=\"M18.56 5.44l.94 2.06.94-2.06 2.06-.94-2.06-.94-.94-2.06-.94 2.06-2.06.94zm-11 1L8.5 8.5l.94-2.06 2.06-.94-2.06-.94L8.5 2.5l-.94 2.06-2.06.94zm10 10l.94 2.06.94-2.06 2.06-.94-2.06-.94-.94-2.06-.94 2.06-2.06.94z\"/><path d=\"M17.41 7.96l-1.37-1.37c-.4-.4-.92-.59-1.43-.59-.52 0-1.04.2-1.43.59L10.3 9.45l-7.72 7.72c-.78.78-.78 2.05 0 2.83L4 21.41c.39.39.9.59 1.41.59.51 0 1.02-.2 1.41-.59l7.78-7.78 2.81-2.81c.8-.78.8-2.07 0-2.86zM5.41 20L4 18.59l7.72-7.72 1.47 1.35L5.41 20z\"/>\n",
              "  </svg>\n",
              "      </button>\n",
              "      \n",
              "  <style>\n",
              "    .colab-df-container {\n",
              "      display:flex;\n",
              "      flex-wrap:wrap;\n",
              "      gap: 12px;\n",
              "    }\n",
              "\n",
              "    .colab-df-convert {\n",
              "      background-color: #E8F0FE;\n",
              "      border: none;\n",
              "      border-radius: 50%;\n",
              "      cursor: pointer;\n",
              "      display: none;\n",
              "      fill: #1967D2;\n",
              "      height: 32px;\n",
              "      padding: 0 0 0 0;\n",
              "      width: 32px;\n",
              "    }\n",
              "\n",
              "    .colab-df-convert:hover {\n",
              "      background-color: #E2EBFA;\n",
              "      box-shadow: 0px 1px 2px rgba(60, 64, 67, 0.3), 0px 1px 3px 1px rgba(60, 64, 67, 0.15);\n",
              "      fill: #174EA6;\n",
              "    }\n",
              "\n",
              "    [theme=dark] .colab-df-convert {\n",
              "      background-color: #3B4455;\n",
              "      fill: #D2E3FC;\n",
              "    }\n",
              "\n",
              "    [theme=dark] .colab-df-convert:hover {\n",
              "      background-color: #434B5C;\n",
              "      box-shadow: 0px 1px 3px 1px rgba(0, 0, 0, 0.15);\n",
              "      filter: drop-shadow(0px 1px 2px rgba(0, 0, 0, 0.3));\n",
              "      fill: #FFFFFF;\n",
              "    }\n",
              "  </style>\n",
              "\n",
              "      <script>\n",
              "        const buttonEl =\n",
              "          document.querySelector('#df-19ce0e9c-3683-46f1-8137-cd1aaec9d358 button.colab-df-convert');\n",
              "        buttonEl.style.display =\n",
              "          google.colab.kernel.accessAllowed ? 'block' : 'none';\n",
              "\n",
              "        async function convertToInteractive(key) {\n",
              "          const element = document.querySelector('#df-19ce0e9c-3683-46f1-8137-cd1aaec9d358');\n",
              "          const dataTable =\n",
              "            await google.colab.kernel.invokeFunction('convertToInteractive',\n",
              "                                                     [key], {});\n",
              "          if (!dataTable) return;\n",
              "\n",
              "          const docLinkHtml = 'Like what you see? Visit the ' +\n",
              "            '<a target=\"_blank\" href=https://colab.research.google.com/notebooks/data_table.ipynb>data table notebook</a>'\n",
              "            + ' to learn more about interactive tables.';\n",
              "          element.innerHTML = '';\n",
              "          dataTable['output_type'] = 'display_data';\n",
              "          await google.colab.output.renderOutput(dataTable, element);\n",
              "          const docLink = document.createElement('div');\n",
              "          docLink.innerHTML = docLinkHtml;\n",
              "          element.appendChild(docLink);\n",
              "        }\n",
              "      </script>\n",
              "    </div>\n",
              "  </div>\n",
              "  "
            ]
          },
          "metadata": {},
          "execution_count": 2
        }
      ],
      "source": [
        "import numpy as np\n",
        "import pickle\n",
        "\n",
        "with open(\"/content/gdrive/My Drive/task1_multiomics_data.pickle\", \"rb\") as file:\n",
        "    data_multiomics = pickle.load(file)\n",
        "data_multiomics.head(5)"
      ],
      "id": "BRhTcfwKKMkq"
    },
    {
      "cell_type": "code",
      "source": [
        "# Calculate the number of males and females\n",
        "num_males = (data_multiomics['Sex'] == 'Male').sum()\n",
        "num_females = (data_multiomics['Sex'] == 'Female').sum()\n",
        "num_males, num_females"
      ],
      "metadata": {
        "colab": {
          "base_uri": "https://localhost:8080/"
        },
        "id": "bAM01BjRpDg0",
        "outputId": "52b2064a-eee9-4f26-8160-e003d76df3ae"
      },
      "id": "bAM01BjRpDg0",
      "execution_count": null,
      "outputs": [
        {
          "output_type": "execute_result",
          "data": {
            "text/plain": [
              "(32, 36)"
            ]
          },
          "metadata": {},
          "execution_count": 3
        }
      ]
    },
    {
      "cell_type": "markdown",
      "id": "53ad851c-e846-46f8-bfb0-bdcc5a8abb71",
      "metadata": {
        "id": "53ad851c-e846-46f8-bfb0-bdcc5a8abb71"
      },
      "source": [
        "# Multiomics modeling"
      ]
    },
    {
      "cell_type": "markdown",
      "id": "056d3afb-59b4-485d-983d-a4fc4328edc5",
      "metadata": {
        "id": "056d3afb-59b4-485d-983d-a4fc4328edc5"
      },
      "source": [
        "Let's look at the paper *\"Multiomics modeling of the immunome, transcriptome, microbiome, proteome and metabolome adaptations during human pregnancy\"* by **Ghaemi et al. 2019** (`task1_multiomics_ghaemi2019multiomics.pdf`).\n",
        "The idea is to use different modalities (measurements collected from the immune system, microbiome, etc.) to characterize biological changes during pregnancy. \n",
        "This includes whether we can predict the gestational age of a mother solely based on the collected biomarkers.\n",
        "\n",
        "**Note**: There is no need to get accquainted with multiomics modeling, at least for this exercise. In the end, this is just a regular data science task :) "
      ]
    },
    {
      "cell_type": "markdown",
      "id": "4010abf9-7c7d-438e-99cf-1678b84962fe",
      "metadata": {
        "id": "4010abf9-7c7d-438e-99cf-1678b84962fe"
      },
      "source": [
        "## Load the data"
      ]
    },
    {
      "cell_type": "markdown",
      "id": "a012e941-6fb3-41f7-9f0e-1f4ebcec56ad",
      "metadata": {
        "id": "a012e941-6fb3-41f7-9f0e-1f4ebcec56ad"
      },
      "source": [
        "Load the data from `multiomics_data.pickle` using `pickle`. You will get a [pandas](https://pandas.pydata.org/docs/user_guide/10min.html) DataFrame containing preprocessed data from the paper (the original data from their paper is a bit messy). The data contains several meta attributes as well as the different modalities.\n",
        "\n",
        "Meta attributes include:\n",
        "\n",
        "* `Sex`: sex of the baby\n",
        "* `timepoint`: 1-3 correspond to the three trimesters, 4 corresponds to postpartum\n",
        "* `gestational_age`: time of sampling"
      ]
    },
    {
      "cell_type": "markdown",
      "id": "b33f1174-8326-4fb5-a5fa-649a41f64401",
      "metadata": {
        "id": "b33f1174-8326-4fb5-a5fa-649a41f64401"
      },
      "source": [
        "Modalites are:\n",
        "    \n",
        "* `cellfree_rna`\n",
        "* `metabolomics`\n",
        "* `microbiome`\n",
        "* `plasma_luminex`\n",
        "* `serum_luminex`\n",
        "* `immune_system`\n",
        "* `plasma_somalogic`"
      ]
    },
    {
      "cell_type": "markdown",
      "id": "1eafff87-3cc6-4571-aab3-45125c607f37",
      "metadata": {
        "id": "1eafff87-3cc6-4571-aab3-45125c607f37"
      },
      "source": [
        "For more details pleaase see the paper."
      ]
    },
    {
      "cell_type": "code",
      "execution_count": null,
      "id": "256a11a9-81de-478e-99e1-17e0a8a5a837",
      "metadata": {
        "id": "256a11a9-81de-478e-99e1-17e0a8a5a837"
      },
      "outputs": [],
      "source": [
        "# # code for loading the data\n",
        "\n",
        "# import numpy as np\n",
        "# import pickle\n",
        "\n",
        "# with open(\"task1_multiomics_data.pickle\", \"rb\") as file:\n",
        "#     data_multiomics = pickle.load(file)\n",
        "    \n",
        "# data_multiomics.head(5)"
      ]
    },
    {
      "cell_type": "code",
      "execution_count": null,
      "id": "601e700b-6ab9-488c-821a-f59870e8d5e8",
      "metadata": {
        "colab": {
          "base_uri": "https://localhost:8080/",
          "height": 317
        },
        "id": "601e700b-6ab9-488c-821a-f59870e8d5e8",
        "outputId": "bb0382be-0cb6-47dc-c78d-7b43a6151acb"
      },
      "outputs": [
        {
          "output_type": "execute_result",
          "data": {
            "text/plain": [
              "   0_Bcells  1_CD16+CD56-NKcells  2_CD4+Tcells_mem  3_CD4+Tcells_naive  \\\n",
              "0  0.053164             0.054978          0.297875            0.136289   \n",
              "1  0.052857             0.069794          0.279917            0.140350   \n",
              "2  0.053202             0.050829          0.277997            0.187659   \n",
              "3  0.049906             0.090496          0.266336            0.156263   \n",
              "4  0.103067             0.004128          0.162746            0.103950   \n",
              "\n",
              "   4_CD4+Tcells  5_CD45RA+Tregs  6_CD45RA-Tregs  7_CD56+CD16-NKcells  \\\n",
              "0      0.445832        0.002570        0.013848             0.007052   \n",
              "1      0.430839        0.002470        0.010923             0.004759   \n",
              "2      0.479078        0.003473        0.013359             0.005302   \n",
              "3      0.432904        0.003071        0.014459             0.004318   \n",
              "4      0.270840        0.003198        0.007988             0.007153   \n",
              "\n",
              "   8_CD7+NKcells  9_CD8+Tcells_mem  ...  524_M-MDSC_STAT5_Unstim  \\\n",
              "0       0.070836          0.118884  ...                 0.998954   \n",
              "1       0.080245          0.127831  ...                 0.930847   \n",
              "2       0.063781          0.104513  ...                 1.077824   \n",
              "3       0.101386          0.115243  ...                 0.976888   \n",
              "4       0.090763          0.057064  ...                 0.890405   \n",
              "\n",
              "   525_mDCs_STAT5_Unstim  526_ncMCs_STAT5_Unstim  527_pDCs_STAT5_Unstim  \\\n",
              "0               0.953637                1.082629               0.808610   \n",
              "1               0.822618                0.931126               0.728738   \n",
              "2               0.970954                1.011011               0.749277   \n",
              "3               0.918164                1.028114               0.790166   \n",
              "4               0.800468                1.067789               0.563615   \n",
              "\n",
              "   528_Tbet+CD4+Tcells_mem_STAT5_Unstim  \\\n",
              "0                              0.504269   \n",
              "1                              0.613059   \n",
              "2                              0.752882   \n",
              "3                              0.505349   \n",
              "4                              0.464563   \n",
              "\n",
              "   529_Tbet+CD4+Tcells_naive_STAT5_Unstim  \\\n",
              "0                                0.757424   \n",
              "1                                0.852393   \n",
              "2                                0.813249   \n",
              "3                                0.648406   \n",
              "4                                1.004497   \n",
              "\n",
              "   530_Tbet+CD8+Tcells_mem_STAT5_Unstim  \\\n",
              "0                              0.462045   \n",
              "1                              0.506981   \n",
              "2                              0.560379   \n",
              "3                              0.464522   \n",
              "4                              0.378557   \n",
              "\n",
              "   531_Tbet+CD8+Tcells_naive_STAT5_Unstim  532_TCRgd+Tcells_STAT5_Unstim  \\\n",
              "0                                0.454665                       0.443859   \n",
              "1                                0.474408                       0.491691   \n",
              "2                                0.481862                       0.505706   \n",
              "3                                0.445444                       0.438285   \n",
              "4                                0.423530                       0.332368   \n",
              "\n",
              "   533_Tregs_STAT5_Unstim  \n",
              "0                0.529431  \n",
              "1                0.574133  \n",
              "2                0.640245  \n",
              "3                0.573058  \n",
              "4                0.447904  \n",
              "\n",
              "[5 rows x 534 columns]"
            ],
            "text/html": [
              "\n",
              "  <div id=\"df-aa3e2495-1de7-4207-80bf-4fc2c0b3930c\">\n",
              "    <div class=\"colab-df-container\">\n",
              "      <div>\n",
              "<style scoped>\n",
              "    .dataframe tbody tr th:only-of-type {\n",
              "        vertical-align: middle;\n",
              "    }\n",
              "\n",
              "    .dataframe tbody tr th {\n",
              "        vertical-align: top;\n",
              "    }\n",
              "\n",
              "    .dataframe thead th {\n",
              "        text-align: right;\n",
              "    }\n",
              "</style>\n",
              "<table border=\"1\" class=\"dataframe\">\n",
              "  <thead>\n",
              "    <tr style=\"text-align: right;\">\n",
              "      <th></th>\n",
              "      <th>0_Bcells</th>\n",
              "      <th>1_CD16+CD56-NKcells</th>\n",
              "      <th>2_CD4+Tcells_mem</th>\n",
              "      <th>3_CD4+Tcells_naive</th>\n",
              "      <th>4_CD4+Tcells</th>\n",
              "      <th>5_CD45RA+Tregs</th>\n",
              "      <th>6_CD45RA-Tregs</th>\n",
              "      <th>7_CD56+CD16-NKcells</th>\n",
              "      <th>8_CD7+NKcells</th>\n",
              "      <th>9_CD8+Tcells_mem</th>\n",
              "      <th>...</th>\n",
              "      <th>524_M-MDSC_STAT5_Unstim</th>\n",
              "      <th>525_mDCs_STAT5_Unstim</th>\n",
              "      <th>526_ncMCs_STAT5_Unstim</th>\n",
              "      <th>527_pDCs_STAT5_Unstim</th>\n",
              "      <th>528_Tbet+CD4+Tcells_mem_STAT5_Unstim</th>\n",
              "      <th>529_Tbet+CD4+Tcells_naive_STAT5_Unstim</th>\n",
              "      <th>530_Tbet+CD8+Tcells_mem_STAT5_Unstim</th>\n",
              "      <th>531_Tbet+CD8+Tcells_naive_STAT5_Unstim</th>\n",
              "      <th>532_TCRgd+Tcells_STAT5_Unstim</th>\n",
              "      <th>533_Tregs_STAT5_Unstim</th>\n",
              "    </tr>\n",
              "  </thead>\n",
              "  <tbody>\n",
              "    <tr>\n",
              "      <th>0</th>\n",
              "      <td>0.053164</td>\n",
              "      <td>0.054978</td>\n",
              "      <td>0.297875</td>\n",
              "      <td>0.136289</td>\n",
              "      <td>0.445832</td>\n",
              "      <td>0.002570</td>\n",
              "      <td>0.013848</td>\n",
              "      <td>0.007052</td>\n",
              "      <td>0.070836</td>\n",
              "      <td>0.118884</td>\n",
              "      <td>...</td>\n",
              "      <td>0.998954</td>\n",
              "      <td>0.953637</td>\n",
              "      <td>1.082629</td>\n",
              "      <td>0.808610</td>\n",
              "      <td>0.504269</td>\n",
              "      <td>0.757424</td>\n",
              "      <td>0.462045</td>\n",
              "      <td>0.454665</td>\n",
              "      <td>0.443859</td>\n",
              "      <td>0.529431</td>\n",
              "    </tr>\n",
              "    <tr>\n",
              "      <th>1</th>\n",
              "      <td>0.052857</td>\n",
              "      <td>0.069794</td>\n",
              "      <td>0.279917</td>\n",
              "      <td>0.140350</td>\n",
              "      <td>0.430839</td>\n",
              "      <td>0.002470</td>\n",
              "      <td>0.010923</td>\n",
              "      <td>0.004759</td>\n",
              "      <td>0.080245</td>\n",
              "      <td>0.127831</td>\n",
              "      <td>...</td>\n",
              "      <td>0.930847</td>\n",
              "      <td>0.822618</td>\n",
              "      <td>0.931126</td>\n",
              "      <td>0.728738</td>\n",
              "      <td>0.613059</td>\n",
              "      <td>0.852393</td>\n",
              "      <td>0.506981</td>\n",
              "      <td>0.474408</td>\n",
              "      <td>0.491691</td>\n",
              "      <td>0.574133</td>\n",
              "    </tr>\n",
              "    <tr>\n",
              "      <th>2</th>\n",
              "      <td>0.053202</td>\n",
              "      <td>0.050829</td>\n",
              "      <td>0.277997</td>\n",
              "      <td>0.187659</td>\n",
              "      <td>0.479078</td>\n",
              "      <td>0.003473</td>\n",
              "      <td>0.013359</td>\n",
              "      <td>0.005302</td>\n",
              "      <td>0.063781</td>\n",
              "      <td>0.104513</td>\n",
              "      <td>...</td>\n",
              "      <td>1.077824</td>\n",
              "      <td>0.970954</td>\n",
              "      <td>1.011011</td>\n",
              "      <td>0.749277</td>\n",
              "      <td>0.752882</td>\n",
              "      <td>0.813249</td>\n",
              "      <td>0.560379</td>\n",
              "      <td>0.481862</td>\n",
              "      <td>0.505706</td>\n",
              "      <td>0.640245</td>\n",
              "    </tr>\n",
              "    <tr>\n",
              "      <th>3</th>\n",
              "      <td>0.049906</td>\n",
              "      <td>0.090496</td>\n",
              "      <td>0.266336</td>\n",
              "      <td>0.156263</td>\n",
              "      <td>0.432904</td>\n",
              "      <td>0.003071</td>\n",
              "      <td>0.014459</td>\n",
              "      <td>0.004318</td>\n",
              "      <td>0.101386</td>\n",
              "      <td>0.115243</td>\n",
              "      <td>...</td>\n",
              "      <td>0.976888</td>\n",
              "      <td>0.918164</td>\n",
              "      <td>1.028114</td>\n",
              "      <td>0.790166</td>\n",
              "      <td>0.505349</td>\n",
              "      <td>0.648406</td>\n",
              "      <td>0.464522</td>\n",
              "      <td>0.445444</td>\n",
              "      <td>0.438285</td>\n",
              "      <td>0.573058</td>\n",
              "    </tr>\n",
              "    <tr>\n",
              "      <th>4</th>\n",
              "      <td>0.103067</td>\n",
              "      <td>0.004128</td>\n",
              "      <td>0.162746</td>\n",
              "      <td>0.103950</td>\n",
              "      <td>0.270840</td>\n",
              "      <td>0.003198</td>\n",
              "      <td>0.007988</td>\n",
              "      <td>0.007153</td>\n",
              "      <td>0.090763</td>\n",
              "      <td>0.057064</td>\n",
              "      <td>...</td>\n",
              "      <td>0.890405</td>\n",
              "      <td>0.800468</td>\n",
              "      <td>1.067789</td>\n",
              "      <td>0.563615</td>\n",
              "      <td>0.464563</td>\n",
              "      <td>1.004497</td>\n",
              "      <td>0.378557</td>\n",
              "      <td>0.423530</td>\n",
              "      <td>0.332368</td>\n",
              "      <td>0.447904</td>\n",
              "    </tr>\n",
              "  </tbody>\n",
              "</table>\n",
              "<p>5 rows × 534 columns</p>\n",
              "</div>\n",
              "      <button class=\"colab-df-convert\" onclick=\"convertToInteractive('df-aa3e2495-1de7-4207-80bf-4fc2c0b3930c')\"\n",
              "              title=\"Convert this dataframe to an interactive table.\"\n",
              "              style=\"display:none;\">\n",
              "        \n",
              "  <svg xmlns=\"http://www.w3.org/2000/svg\" height=\"24px\"viewBox=\"0 0 24 24\"\n",
              "       width=\"24px\">\n",
              "    <path d=\"M0 0h24v24H0V0z\" fill=\"none\"/>\n",
              "    <path d=\"M18.56 5.44l.94 2.06.94-2.06 2.06-.94-2.06-.94-.94-2.06-.94 2.06-2.06.94zm-11 1L8.5 8.5l.94-2.06 2.06-.94-2.06-.94L8.5 2.5l-.94 2.06-2.06.94zm10 10l.94 2.06.94-2.06 2.06-.94-2.06-.94-.94-2.06-.94 2.06-2.06.94z\"/><path d=\"M17.41 7.96l-1.37-1.37c-.4-.4-.92-.59-1.43-.59-.52 0-1.04.2-1.43.59L10.3 9.45l-7.72 7.72c-.78.78-.78 2.05 0 2.83L4 21.41c.39.39.9.59 1.41.59.51 0 1.02-.2 1.41-.59l7.78-7.78 2.81-2.81c.8-.78.8-2.07 0-2.86zM5.41 20L4 18.59l7.72-7.72 1.47 1.35L5.41 20z\"/>\n",
              "  </svg>\n",
              "      </button>\n",
              "      \n",
              "  <style>\n",
              "    .colab-df-container {\n",
              "      display:flex;\n",
              "      flex-wrap:wrap;\n",
              "      gap: 12px;\n",
              "    }\n",
              "\n",
              "    .colab-df-convert {\n",
              "      background-color: #E8F0FE;\n",
              "      border: none;\n",
              "      border-radius: 50%;\n",
              "      cursor: pointer;\n",
              "      display: none;\n",
              "      fill: #1967D2;\n",
              "      height: 32px;\n",
              "      padding: 0 0 0 0;\n",
              "      width: 32px;\n",
              "    }\n",
              "\n",
              "    .colab-df-convert:hover {\n",
              "      background-color: #E2EBFA;\n",
              "      box-shadow: 0px 1px 2px rgba(60, 64, 67, 0.3), 0px 1px 3px 1px rgba(60, 64, 67, 0.15);\n",
              "      fill: #174EA6;\n",
              "    }\n",
              "\n",
              "    [theme=dark] .colab-df-convert {\n",
              "      background-color: #3B4455;\n",
              "      fill: #D2E3FC;\n",
              "    }\n",
              "\n",
              "    [theme=dark] .colab-df-convert:hover {\n",
              "      background-color: #434B5C;\n",
              "      box-shadow: 0px 1px 3px 1px rgba(0, 0, 0, 0.15);\n",
              "      filter: drop-shadow(0px 1px 2px rgba(0, 0, 0, 0.3));\n",
              "      fill: #FFFFFF;\n",
              "    }\n",
              "  </style>\n",
              "\n",
              "      <script>\n",
              "        const buttonEl =\n",
              "          document.querySelector('#df-aa3e2495-1de7-4207-80bf-4fc2c0b3930c button.colab-df-convert');\n",
              "        buttonEl.style.display =\n",
              "          google.colab.kernel.accessAllowed ? 'block' : 'none';\n",
              "\n",
              "        async function convertToInteractive(key) {\n",
              "          const element = document.querySelector('#df-aa3e2495-1de7-4207-80bf-4fc2c0b3930c');\n",
              "          const dataTable =\n",
              "            await google.colab.kernel.invokeFunction('convertToInteractive',\n",
              "                                                     [key], {});\n",
              "          if (!dataTable) return;\n",
              "\n",
              "          const docLinkHtml = 'Like what you see? Visit the ' +\n",
              "            '<a target=\"_blank\" href=https://colab.research.google.com/notebooks/data_table.ipynb>data table notebook</a>'\n",
              "            + ' to learn more about interactive tables.';\n",
              "          element.innerHTML = '';\n",
              "          dataTable['output_type'] = 'display_data';\n",
              "          await google.colab.output.renderOutput(dataTable, element);\n",
              "          const docLink = document.createElement('div');\n",
              "          docLink.innerHTML = docLinkHtml;\n",
              "          element.appendChild(docLink);\n",
              "        }\n",
              "      </script>\n",
              "    </div>\n",
              "  </div>\n",
              "  "
            ]
          },
          "metadata": {},
          "execution_count": 5
        }
      ],
      "source": [
        "# look at the immune system\n",
        "data_multiomics[\"immune_system\"].head(5)"
      ]
    },
    {
      "cell_type": "markdown",
      "id": "d4575569-097c-4466-9e87-6d9828438528",
      "metadata": {
        "id": "d4575569-097c-4466-9e87-6d9828438528"
      },
      "source": [
        "## Task 1: Your experience"
      ]
    },
    {
      "cell_type": "markdown",
      "id": "0aa66553-c955-4eb2-9d00-a743a3fa8f22",
      "metadata": {
        "id": "0aa66553-c955-4eb2-9d00-a743a3fa8f22"
      },
      "source": [
        "Before we start, please briefly describe your experience in data science and machine learning (5 sentences)."
      ]
    },
    {
      "cell_type": "markdown",
      "id": "5f9bbac4-bf98-4086-b037-537dab6709af",
      "metadata": {
        "id": "5f9bbac4-bf98-4086-b037-537dab6709af"
      },
      "source": [
        "> I got my formal introduction to machine learning during my masters program and later I enriched it with different MOOCs. One specific specialization course that helped me a lot with theory as well as intense practical skills is \"Applied Data Science with Python\", a 5-course specialization by University of Michigan which covered so much ground from machine learning models to natural language processing, visualizations and much more. I have produced a conference paper title \"Movie Genre Classification from Movie Posters Using Deep Feedforward Network\", where I have applied deep learning neural networks to classify the genre of a movie from its poster image."
      ]
    },
    {
      "cell_type": "markdown",
      "id": "a818d55f-4fd9-445f-893d-46c2862cd6ec",
      "metadata": {
        "id": "a818d55f-4fd9-445f-893d-46c2862cd6ec"
      },
      "source": [
        "## Task 2: Reproduce Figure 1"
      ]
    },
    {
      "cell_type": "markdown",
      "id": "058b5193-9d31-4efe-a966-11cec06c5a3e",
      "metadata": {
        "id": "058b5193-9d31-4efe-a966-11cec06c5a3e"
      },
      "source": [
        "1. Reproduce **Figure 1 B and C** from the paper.\n",
        "2. Explain in a few words why this analyhsis was conducted, and what the authors want to tell the reader with the results."
      ]
    },
    {
      "cell_type": "markdown",
      "id": "f9dff1bb-8b03-45fd-9117-96311a12b1a4",
      "metadata": {
        "id": "f9dff1bb-8b03-45fd-9117-96311a12b1a4"
      },
      "source": [
        "**Figure 1:**<br/>\n",
        "<img src=\"assets/task1_multiomics_fig1.jpeg\">"
      ]
    },
    {
      "cell_type": "code",
      "execution_count": null,
      "id": "1b651b44",
      "metadata": {
        "id": "1b651b44"
      },
      "outputs": [],
      "source": [
        "measurements_per_entity = data_multiomics.groupby(level=0, axis=1).size()"
      ]
    },
    {
      "cell_type": "code",
      "execution_count": null,
      "id": "7a501c7a",
      "metadata": {
        "colab": {
          "base_uri": "https://localhost:8080/"
        },
        "id": "7a501c7a",
        "outputId": "b8a85abb-a413-4f8e-ebcd-bd83d7379d76"
      },
      "outputs": [
        {
          "output_type": "execute_result",
          "data": {
            "text/plain": [
              "cellfree_rna        37275\n",
              "immune_system         534\n",
              "metabolomics         3485\n",
              "microbiome          18548\n",
              "plasma_luminex         62\n",
              "plasma_somalogic     1300\n",
              "serum_luminex          62\n",
              "dtype: int64"
            ]
          },
          "metadata": {},
          "execution_count": 7
        }
      ],
      "source": [
        "columns = ['cellfree_rna', 'immune_system', 'metabolomics', 'microbiome', 'plasma_luminex', 'plasma_somalogic', 'serum_luminex']\n",
        "measurements_per_entity[columns]"
      ]
    },
    {
      "cell_type": "code",
      "execution_count": null,
      "id": "394cb3c3",
      "metadata": {
        "colab": {
          "base_uri": "https://localhost:8080/",
          "height": 347
        },
        "id": "394cb3c3",
        "outputId": "719d744d-c1ee-4d72-cb59-2341114ef5f3"
      },
      "outputs": [
        {
          "output_type": "display_data",
          "data": {
            "text/plain": [
              "<Figure size 432x288 with 1 Axes>"
            ],
            "image/png": "[encoded data removed]"
          },
          "metadata": {
            "needs_background": "light"
          }
        }
      ],
      "source": [
        "import matplotlib.pyplot as plt\n",
        "\n",
        "plt.bar(columns, measurements_per_entity[columns].values)\n",
        "plt.yscale('log', base=10)\n",
        "plt.xticks(rotation=90)\n",
        "plt.ylabel('Number of Measurements (log scale)')\n",
        "plt.show()"
      ]
    },
    {
      "cell_type": "code",
      "execution_count": null,
      "id": "28729a24",
      "metadata": {
        "colab": {
          "base_uri": "https://localhost:8080/",
          "height": 347
        },
        "id": "28729a24",
        "outputId": "9063ff66-62fe-49ef-b7a1-3557b9738c1d"
      },
      "outputs": [
        {
          "output_type": "display_data",
          "data": {
            "text/plain": [
              "<Figure size 432x288 with 1 Axes>"
            ],
            "image/png": "[encoded data removed]"
          },
          "metadata": {
            "needs_background": "light"
          }
        }
      ],
      "source": [
        "from sklearn.decomposition import PCA\n",
        "\n",
        "n_pcs = {}\n",
        "for column in columns:\n",
        "    pca = PCA(n_components=0.9)\n",
        "    pca.fit(data_multiomics[column])\n",
        "    n_pcs[column] = pca.n_components_\n",
        "#     print(\"{} = {}\".format(column, pca.n_components_))\n",
        "\n",
        "import matplotlib.pyplot as plt\n",
        "\n",
        "plt.bar(n_pcs.keys(), n_pcs.values())\n",
        "plt.xticks(rotation=90)\n",
        "plt.ylabel('Number of PCs for 90% variance')\n",
        "plt.show()"
      ]
    },
    {
      "cell_type": "markdown",
      "source": [
        "> The first graph was drawn to see the number of measurements in the seven entities i.e cellfree_rna, immune_system etc\n",
        "\n",
        "> The second graph was drawn to describe the variance in each entity. So greather the number of PCs in an entity the greater will be variance."
      ],
      "metadata": {
        "id": "EB_JDUvCyF0t"
      },
      "id": "EB_JDUvCyF0t"
    },
    {
      "cell_type": "markdown",
      "id": "1e208e6c-6b53-4a94-a4d9-eea2545378a1",
      "metadata": {
        "id": "1e208e6c-6b53-4a94-a4d9-eea2545378a1"
      },
      "source": [
        "## Task 3: Build a prediction model for `gestational_age`"
      ]
    },
    {
      "cell_type": "markdown",
      "id": "72f7cbc5-5d8e-4f45-aaa4-b2d90cfbfdf1",
      "metadata": {
        "id": "72f7cbc5-5d8e-4f45-aaa4-b2d90cfbfdf1"
      },
      "source": [
        "1. Pick **two modalities** and train two models to predict `gestational_age` **for each of them** (the original paper built models for all seven of them and combined them as well; you don't need to do that).\n",
        "This should result in four trained models.\n",
        "For example, one trained model could based on `linear regression` as a model, the `immune_system` data as input, and `gestational_age` as output.\n",
        "\n",
        "2. **Evaluate** your models using a measure that you think fits best and **visualize** your predictions similar to **Figure 5**.\n",
        "\n",
        "3. For your best model, **plot a figure** similar to **Figure 2D**.\n",
        "\n",
        "4. **Briefly explain** your choices and discuss the results (particularly if your approach or your results differ from the paper).\n",
        "\n",
        "To train and evaluate models, you can use [scikit-learn](https://scikit-learn.org/stable/tutorial/basic/tutorial.html)."
      ]
    },
    {
      "cell_type": "markdown",
      "id": "20d7f41b-dc88-4862-a046-ef2059431ca0",
      "metadata": {
        "id": "20d7f41b-dc88-4862-a046-ef2059431ca0"
      },
      "source": [
        "**Figure 5:**<br/>\n",
        "<img src=\"assets/task1_multiomics_fig5_min.jpeg\">"
      ]
    },
    {
      "cell_type": "code",
      "execution_count": null,
      "id": "6af083f7",
      "metadata": {
        "id": "6af083f7"
      },
      "outputs": [],
      "source": [
        "from sklearn.linear_model import LinearRegression\n",
        "from sklearn.model_selection import train_test_split\n",
        "from sklearn.ensemble import RandomForestRegressor\n",
        "from sklearn.metrics import mean_squared_error\n",
        "from sklearn.metrics import accuracy_score"
      ]
    },
    {
      "cell_type": "code",
      "execution_count": null,
      "id": "8ab6539e",
      "metadata": {
        "id": "8ab6539e"
      },
      "outputs": [],
      "source": [
        "training_data, testing_data = train_test_split(data_multiomics, test_size=0.2, random_state=40)"
      ]
    },
    {
      "cell_type": "code",
      "source": [
        "num_males = (training_data['Sex'] == 'Male').sum()\n",
        "num_females = (training_data['Sex'] == 'Female').sum()\n",
        "num_males, num_females"
      ],
      "metadata": {
        "colab": {
          "base_uri": "https://localhost:8080/"
        },
        "outputId": "c61352f8-a75d-40d0-8138-38bc889bc181",
        "id": "A0cDkytOuCbt"
      },
      "execution_count": null,
      "outputs": [
        {
          "output_type": "execute_result",
          "data": {
            "text/plain": [
              "(24, 30)"
            ]
          },
          "metadata": {},
          "execution_count": 12
        }
      ],
      "id": "A0cDkytOuCbt"
    },
    {
      "cell_type": "code",
      "source": [
        "num_males = (testing_data['Sex'] == 'Male').sum()\n",
        "num_females = (testing_data['Sex'] == 'Female').sum()\n",
        "num_males, num_females"
      ],
      "metadata": {
        "colab": {
          "base_uri": "https://localhost:8080/"
        },
        "outputId": "d4349670-3e90-4a5e-b8d4-b040390ce012",
        "id": "NbxbkGT5t9Ns"
      },
      "execution_count": null,
      "outputs": [
        {
          "output_type": "execute_result",
          "data": {
            "text/plain": [
              "(8, 6)"
            ]
          },
          "metadata": {},
          "execution_count": 13
        }
      ],
      "id": "NbxbkGT5t9Ns"
    },
    {
      "cell_type": "code",
      "execution_count": null,
      "id": "715d4e6f",
      "metadata": {
        "colab": {
          "base_uri": "https://localhost:8080/",
          "height": 297
        },
        "id": "715d4e6f",
        "outputId": "fc26ef84-1544-42c4-91d6-3c98947c6cab"
      },
      "outputs": [
        {
          "output_type": "display_data",
          "data": {
            "text/plain": [
              "<Figure size 432x288 with 1 Axes>"
            ],
            "image/png": "[encoded data removed]"
          },
          "metadata": {
            "needs_background": "light"
          }
        }
      ],
      "source": [
        "from sklearn.model_selection import train_test_split\n",
        "from sklearn.linear_model import LinearRegression\n",
        "from sklearn.svm import SVR\n",
        "from sklearn.ensemble import RandomForestRegressor\n",
        "from sklearn.metrics import mean_squared_error\n",
        "import numpy as np\n",
        "import matplotlib.pyplot as plt\n",
        "\n",
        "# cellfree_rna        37275\n",
        "# immune_system         534\n",
        "# metabolomics         3485\n",
        "# microbiome          18548\n",
        "# plasma_luminex         62\n",
        "# plasma_somalogic     1300\n",
        "# serum_luminex          62\n",
        "\n",
        "f1 = 'metabolomics'\n",
        "f2 = 'microbiome'\n",
        "\n",
        "X_train_f1 = training_data[f1]\n",
        "X_test_f1 = testing_data[f1]\n",
        "y_train = training_data['gestational_age']\n",
        " \n",
        "X_train_f2 = training_data[f2]\n",
        "X_test_f2 = testing_data[f2]\n",
        "y_test = testing_data['gestational_age']\n",
        "\n",
        "\n",
        "# Train a linear regression model on feature 1\n",
        "# model1_f1 = LinearRegression()\n",
        "model1_f1 = SVR()\n",
        "model1_f1.fit(X_train_f1, y_train)\n",
        "\n",
        "# Train a linear regression model on feature 2\n",
        "model1_f2 = SVR()\n",
        "model1_f2.fit(X_train_f2, y_train)\n",
        "\n",
        "# Train a random forest model on feature 1\n",
        "model2_f1 = RandomForestRegressor(n_estimators=100, random_state=42)\n",
        "model2_f1.fit(X_train_f1, y_train)\n",
        "\n",
        "# Train a random forest model on feature 2\n",
        "model2_f2 = RandomForestRegressor(n_estimators=100, random_state=42)\n",
        "model2_f2.fit(X_train_f2, y_train)\n",
        "\n",
        "# Test the linear regression models on the test sets for feature 1 and feature 2\n",
        "y_pred_model1_f1 = model1_f1.predict(X_test_f1)\n",
        "y_pred_model1_f2 = model1_f2.predict(X_test_f2)\n",
        "\n",
        "# Test the random forest models on the test sets for feature 1 and feature 2\n",
        "y_pred_model2_f1 = model2_f1.predict(X_test_f1)\n",
        "y_pred_model2_f2 = model2_f2.predict(X_test_f2)\n",
        "\n",
        "# Calculate the RMSE scores for each model and feature\n",
        "rmse_model1_f1 = np.sqrt(mean_squared_error(y_test, y_pred_model1_f1))\n",
        "rmse_model1_f2 = np.sqrt(mean_squared_error(y_test, y_pred_model1_f2))\n",
        "rmse_model2_f1 = np.sqrt(mean_squared_error(y_test, y_pred_model2_f1))\n",
        "rmse_model2_f2 = np.sqrt(mean_squared_error(y_test, y_pred_model2_f2))\n",
        "\n",
        "# Create a bar chart of the RMSE scores for each model and feature\n",
        "models = ['Support Vector Regressor', 'Random Forest Regressor']\n",
        "features = [ f1, f2]\n",
        "rmse_scores = [[rmse_model1_f1, rmse_model2_f1], [rmse_model1_f2, rmse_model2_f2]]\n",
        "\n",
        "x = np.arange(len(models))\n",
        "width = 0.35\n",
        "\n",
        "fig, ax = plt.subplots()\n",
        "rects1 = ax.bar(x - width/2, rmse_scores[0], width, label=features[0])\n",
        "rects2 = ax.bar(x + width/2, rmse_scores[1], width, label=features[1])\n",
        "\n",
        "ax.set_ylabel('RMSE')\n",
        "ax.set_xticks(x)\n",
        "# ax.set_yscale('log')\n",
        "ax.set_xticklabels(models)\n",
        "ax.legend()\n",
        "\n",
        "fig.tight_layout()\n",
        "\n",
        "plt.show()\n"
      ]
    },
    {
      "cell_type": "code",
      "execution_count": null,
      "id": "9a080a5f",
      "metadata": {
        "colab": {
          "base_uri": "https://localhost:8080/",
          "height": 279
        },
        "id": "9a080a5f",
        "outputId": "a450ac32-a8eb-490d-bc9a-854074871855"
      },
      "outputs": [
        {
          "output_type": "display_data",
          "data": {
            "text/plain": [
              "<Figure size 432x288 with 1 Axes>"
            ],
            "image/png": "[encoded data removed]"
          },
          "metadata": {
            "needs_background": "light"
          }
        }
      ],
      "source": [
        "fig, ax = plt.subplots()\n",
        "ax.plot(data_multiomics['gestational_age'], model2_f1.predict(data_multiomics['metabolomics']), 'o')\n",
        "\n",
        "# Add labels and title\n",
        "ax.set_xlabel('Real Gestational Age')\n",
        "ax.set_ylabel('Predicted Gestational Age')\n",
        "\n",
        "# Show the plot\n",
        "plt.show()"
      ]
    },
    {
      "cell_type": "markdown",
      "source": [
        "> I selected metabolomics and microbiome as features\n",
        "\n",
        "> The models are support vector regressor and Random Forest Regressor, I also tried LinearRegressor but it performed badly\n",
        "\n",
        "> In this case, Random Forest Regressor performs comparativevly better as seen from the graph\n",
        "\n",
        "> I used RMSE as we are dealing with age prediction which is a continueous value\n",
        "\n",
        "> I have also plotted the real gestational age against the predicted one by the best model ie Random Forest Regressor with metabolomics as features. "
      ],
      "metadata": {
        "id": "8FTRW4ob3s92"
      },
      "id": "8FTRW4ob3s92"
    },
    {
      "cell_type": "markdown",
      "id": "fd18c532-1f47-46eb-afd3-762fad1d1e72",
      "metadata": {
        "tags": [],
        "id": "fd18c532-1f47-46eb-afd3-762fad1d1e72"
      },
      "source": [
        "**Figure 2D:**<br/>\n",
        "<img src=\"assets/task1_multiomics_fig2d.jpeg\">"
      ]
    },
    {
      "cell_type": "code",
      "execution_count": null,
      "id": "58877194-bff2-462f-bbfc-c64b9ccf3f91",
      "metadata": {
        "id": "58877194-bff2-462f-bbfc-c64b9ccf3f91"
      },
      "outputs": [],
      "source": []
    },
    {
      "cell_type": "markdown",
      "id": "52ad8f7a-958f-44ec-8281-831e324b568d",
      "metadata": {
        "id": "52ad8f7a-958f-44ec-8281-831e324b568d"
      },
      "source": [
        "## Task 4: Predicting the sex of the baby using neural networks"
      ]
    },
    {
      "cell_type": "markdown",
      "id": "5b3a9325-f608-4833-8795-b831fa02b603",
      "metadata": {
        "id": "5b3a9325-f608-4833-8795-b831fa02b603"
      },
      "source": [
        "1. Try using a neural network in Tensorflow or PyTorch for the previous predicion task. \n",
        "2. Perform hypterparameter optimization.\n",
        "3. Discuss your choices in designing and optimizing the neural network.\n",
        "4. Discuss why a neural network may be better/worse than applying a regular model (e.g., linear regression or a random forest)."
      ]
    },
    {
      "cell_type": "markdown",
      "id": "23a2ee11-7db5-4672-a167-2970a51bbf21",
      "metadata": {
        "id": "23a2ee11-7db5-4672-a167-2970a51bbf21"
      },
      "source": []
    },
    {
      "cell_type": "code",
      "execution_count": null,
      "id": "8cef328c",
      "metadata": {
        "id": "8cef328c"
      },
      "outputs": [],
      "source": [
        "import tensorflow as tf\n",
        "from tensorflow import keras\n",
        "from tensorflow import feature_column\n",
        "from tensorflow.keras.layers import Dense, Dropout\n",
        "from sklearn.metrics import confusion_matrix"
      ]
    },
    {
      "cell_type": "code",
      "execution_count": null,
      "id": "983a93a1",
      "metadata": {
        "id": "983a93a1"
      },
      "outputs": [],
      "source": [
        "X = data_multiomics[columns]"
      ]
    },
    {
      "cell_type": "code",
      "execution_count": null,
      "id": "2f4ac199",
      "metadata": {
        "id": "2f4ac199"
      },
      "outputs": [],
      "source": [
        "data_multiomics['Sex'] = data_multiomics['Sex'].apply(lambda x: 1 if x == 'Male' else 0)\n",
        "y = data_multiomics['Sex']"
      ]
    },
    {
      "cell_type": "code",
      "source": [
        "import tensorflow as tf\n",
        "from sklearn.metrics import confusion_matrix\n",
        "\n",
        "\n",
        "X_train, X_test, y_train, y_test = train_test_split(X, y, test_size=0.2, random_state=42)\n",
        "\n",
        "# create the model\n",
        "model = tf.keras.models.Sequential([\n",
        "  tf.keras.layers.Dense(16, activation='relu', input_shape=(X.shape[1],)),\n",
        "  tf.keras.layers.Dense(8, activation='relu'),\n",
        "  tf.keras.layers.Dense(1, activation='sigmoid')\n",
        "])\n",
        "\n",
        "# compile the model\n",
        "model.compile(optimizer='adam',\n",
        "              loss='binary_crossentropy',\n",
        "              metrics=['accuracy'])\n",
        "\n",
        "# train the model\n",
        "history = model.fit(X_train, y_train, epochs=15, validation_split=0.2)\n",
        "\n",
        "# make predictions on test set\n",
        "y_pred = model.predict(X_test)\n",
        "y_pred = np.where(y_pred > 0.5, 1, 0)\n",
        "\n",
        "# calculate confusion matrix\n",
        "cm = confusion_matrix(y_test, y_pred)\n",
        "print(cm)"
      ],
      "metadata": {
        "colab": {
          "base_uri": "https://localhost:8080/"
        },
        "outputId": "534b6517-2469-4ce8-c2b4-060953319bf1",
        "id": "_u5LDGJGkclS"
      },
      "execution_count": null,
      "outputs": [
        {
          "output_type": "stream",
          "name": "stdout",
          "text": [
            "Epoch 1/15\n",
            "2/2 [==============================] - 1s 270ms/step - loss: 613.6581 - accuracy: 0.4651 - val_loss: 850.9455 - val_accuracy: 0.3636\n",
            "Epoch 2/15\n",
            "2/2 [==============================] - 0s 43ms/step - loss: 621.2030 - accuracy: 0.4651 - val_loss: 473.4806 - val_accuracy: 0.6364\n",
            "Epoch 3/15\n",
            "2/2 [==============================] - 0s 45ms/step - loss: 605.8068 - accuracy: 0.5349 - val_loss: 328.5158 - val_accuracy: 0.5455\n",
            "Epoch 4/15\n",
            "2/2 [==============================] - 0s 46ms/step - loss: 273.7497 - accuracy: 0.5349 - val_loss: 700.8751 - val_accuracy: 0.3636\n",
            "Epoch 5/15\n",
            "2/2 [==============================] - 0s 57ms/step - loss: 532.1561 - accuracy: 0.4651 - val_loss: 249.3768 - val_accuracy: 0.3636\n",
            "Epoch 6/15\n",
            "2/2 [==============================] - 0s 44ms/step - loss: 176.7024 - accuracy: 0.5581 - val_loss: 258.9671 - val_accuracy: 0.6364\n",
            "Epoch 7/15\n",
            "2/2 [==============================] - 0s 43ms/step - loss: 253.5841 - accuracy: 0.6279 - val_loss: 212.9265 - val_accuracy: 0.6364\n",
            "Epoch 8/15\n",
            "2/2 [==============================] - 0s 43ms/step - loss: 150.7538 - accuracy: 0.6512 - val_loss: 101.4378 - val_accuracy: 0.6364\n",
            "Epoch 9/15\n",
            "2/2 [==============================] - 0s 44ms/step - loss: 73.8398 - accuracy: 0.7209 - val_loss: 235.0607 - val_accuracy: 0.3636\n",
            "Epoch 10/15\n",
            "2/2 [==============================] - 0s 42ms/step - loss: 117.0380 - accuracy: 0.5814 - val_loss: 49.7528 - val_accuracy: 0.7273\n",
            "Epoch 11/15\n",
            "2/2 [==============================] - 0s 56ms/step - loss: 14.0387 - accuracy: 0.8605 - val_loss: 105.8423 - val_accuracy: 0.6364\n",
            "Epoch 12/15\n",
            "2/2 [==============================] - 0s 41ms/step - loss: 60.3692 - accuracy: 0.6279 - val_loss: 39.4351 - val_accuracy: 0.6364\n",
            "Epoch 13/15\n",
            "2/2 [==============================] - 0s 46ms/step - loss: 8.1284 - accuracy: 0.8837 - val_loss: 60.0311 - val_accuracy: 0.5455\n",
            "Epoch 14/15\n",
            "2/2 [==============================] - 0s 51ms/step - loss: 12.6097 - accuracy: 0.8372 - val_loss: 108.5006 - val_accuracy: 0.4545\n",
            "Epoch 15/15\n",
            "2/2 [==============================] - 0s 39ms/step - loss: 24.7116 - accuracy: 0.7907 - val_loss: 18.0665 - val_accuracy: 0.8182\n",
            "1/1 [==============================] - 0s 95ms/step\n",
            "[[6 0]\n",
            " [2 6]]\n"
          ]
        }
      ],
      "id": "_u5LDGJGkclS"
    },
    {
      "cell_type": "code",
      "source": [
        "from sklearn.metrics import confusion_matrix, ConfusionMatrixDisplay\n",
        "import matplotlib.pyplot as plt\n",
        "\n",
        "ConfusionMatrixDisplay(confusion_matrix=cm).plot()"
      ],
      "metadata": {
        "colab": {
          "base_uri": "https://localhost:8080/",
          "height": 301
        },
        "id": "q81MV2QqvNgn",
        "outputId": "1ee04f18-772b-4839-8627-479cc6944d13"
      },
      "id": "q81MV2QqvNgn",
      "execution_count": null,
      "outputs": [
        {
          "output_type": "execute_result",
          "data": {
            "text/plain": [
              "<sklearn.metrics._plot.confusion_matrix.ConfusionMatrixDisplay at 0x7fe974844ca0>"
            ]
          },
          "metadata": {},
          "execution_count": 20
        },
        {
          "output_type": "display_data",
          "data": {
            "text/plain": [
              "<Figure size 432x288 with 2 Axes>"
            ],
            "image/png": "[encoded data removed]"
          },
          "metadata": {
            "needs_background": "light"
          }
        }
      ]
    },
    {
      "cell_type": "code",
      "source": [
        "_, train_acc = model.evaluate(X_train, y_train, verbose=0)\n",
        "_, test_acc = model.evaluate(X_test, y_test, verbose=0)\n",
        "print('Train: %.3f, Test: %.3f' % (train_acc, test_acc))"
      ],
      "metadata": {
        "colab": {
          "base_uri": "https://localhost:8080/"
        },
        "id": "FxGWHBeV9_95",
        "outputId": "1c5c3d94-eeb4-4fde-ce0c-4ce9aaeeb94b"
      },
      "id": "FxGWHBeV9_95",
      "execution_count": null,
      "outputs": [
        {
          "output_type": "stream",
          "name": "stdout",
          "text": [
            "Train: 0.963, Test: 0.857\n"
          ]
        }
      ]
    },
    {
      "cell_type": "markdown",
      "source": [
        "> I have trained a basic neural network to predict the sex based on the rest of the columns\n",
        "\n",
        "> as you can see from the confusion metrics, the model is performing terribly\n",
        "\n",
        "> the reason is that data is very much limited and so neural network will overfit the data, as you can see training accuracy is around 90% but the test accuracy is very low 63%\n",
        "\n",
        "> if we increase the epochs the training accuracy will be increased and model will overfit the data but the testing accuracy will suffer"
      ],
      "metadata": {
        "id": "F6Ln_j-A8SqM"
      },
      "id": "F6Ln_j-A8SqM"
    },
    {
      "cell_type": "markdown",
      "id": "c81ed739-b7e3-4109-a4ff-2a32fc1bf2e0",
      "metadata": {
        "id": "c81ed739-b7e3-4109-a4ff-2a32fc1bf2e0"
      },
      "source": [
        "## Task 5: Feedback"
      ]
    },
    {
      "cell_type": "markdown",
      "id": "2fd46904-f89c-44ee-9c4c-4c162f09d239",
      "metadata": {
        "id": "2fd46904-f89c-44ee-9c4c-4c162f09d239"
      },
      "source": [
        "Were the tasks above difficult, easy, or a mixture? In both cases, briefly describe why."
      ]
    },
    {
      "cell_type": "markdown",
      "source": [
        "> both were fairly easy not much difficult\n",
        "\n",
        "> but if we strive to get the maximum accuracy then it will take some struggle and experimentation to get there"
      ],
      "metadata": {
        "id": "VGVyEDJv-68d"
      },
      "id": "VGVyEDJv-68d"
    },
    {
      "cell_type": "code",
      "execution_count": null,
      "id": "665963ee-c99b-48d2-9f4c-082c1c5338d9",
      "metadata": {
        "id": "665963ee-c99b-48d2-9f4c-082c1c5338d9"
      },
      "outputs": [],
      "source": []
    }
  ],
  "metadata": {
    "kernelspec": {
      "display_name": "Python 3 (ipykernel)",
      "language": "python",
      "name": "python3"
    },
    "language_info": {
      "codemirror_mode": {
        "name": "ipython",
        "version": 3
      },
      "file_extension": ".py",
      "mimetype": "text/x-python",
      "name": "python",
      "nbconvert_exporter": "python",
      "pygments_lexer": "ipython3",
      "version": "3.10.9"
    },
    "toc-autonumbering": false,
    "colab": {
      "provenance": []
    }
  },
  "nbformat": 4,
  "nbformat_minor": 5
}